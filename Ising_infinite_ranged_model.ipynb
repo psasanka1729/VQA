{
 "cells": [
  {
   "cell_type": "markdown",
   "metadata": {},
   "source": [
    "# arXiv:2311.06199"
   ]
  },
  {
   "cell_type": "code",
   "execution_count": 3,
   "metadata": {},
   "outputs": [],
   "source": [
    "import os\n",
    "import numpy as np\n",
    "import matplotlib.pyplot as plt\n",
    "from mpl_toolkits.axes_grid1 import make_axes_locatable\n",
    "from scipy.linalg import eigh\n",
    "from scipy.sparse import csr_matrix, save_npz, load_npz, kron, identity\n",
    "from scipy.integrate import solve_ivp\n",
    "from scipy.sparse.linalg import expm\n",
    "# matplotlib parameters \n",
    "large = 40; med = 25; small = 20\n",
    "params = {'axes.titlesize': med,\n",
    "          'axes.titlepad' : med,\n",
    "          'legend.fontsize': small,\n",
    "          'axes.labelsize': med ,\n",
    "          'axes.titlesize': small ,\n",
    "          'xtick.labelsize': small ,\n",
    "          'ytick.labelsize': small ,\n",
    "          'figure.titlesize': med}\n",
    "plt.rcParams[\"font.family\"] = \"Helvetica\"\n",
    "plt.rcParams[\"font.serif\"] = [\"Helvetica Neue\"]     \n",
    "# plt.rcParams['font.family'] = 'serif'\n",
    "# plt.rcParams['font.serif'] = ['Computer Modern Roman']     \n",
    "#plt.rcParams['text.usetex'] = True # need LaTeX. Change it to False if LaTeX is not installed in the system\n",
    "plt.rcParams.update(params)"
   ]
  },
  {
   "cell_type": "code",
   "execution_count": 4,
   "metadata": {},
   "outputs": [
    {
     "name": "stdout",
     "output_type": "stream",
     "text": [
      "Generated password: rJI@te4wTc%MUtWMzic\n"
     ]
    }
   ],
   "source": [
    "import time\n",
    "\n",
    "# Set seed using current unix time\n",
    "np.random.seed(int(time.time()))\n",
    "\n",
    "# Define character sets\n",
    "lowercase = 'abcdefghijklmnopqrstuvwxyz'\n",
    "uppercase = 'ABCDEFGHIJKLMNOPQRSTUVWXYZ'\n",
    "digits = '0123456789'\n",
    "special = '@#$%&'\n",
    "\n",
    "# Combine all characters\n",
    "all_chars = lowercase + uppercase + digits + special\n",
    "\n",
    "# Generate password of length 29\n",
    "password = ''.join(np.random.choice(list(all_chars), size=19))\n",
    "print(f\"Generated password: {password}\")"
   ]
  },
  {
   "cell_type": "markdown",
   "metadata": {},
   "source": [
    "# Lindblad equation"
   ]
  },
  {
   "cell_type": "code",
   "execution_count": 25,
   "metadata": {},
   "outputs": [],
   "source": [
    "# Pauli matrices and identity (sparse format)\n",
    "I2 = csr_matrix([[1, 0], [0, 1]], dtype=complex)\n",
    "sigma_x = csr_matrix([[0, 1], [1, 0]], dtype=complex)\n",
    "sigma_y = csr_matrix([[0, -1j], [1j, 0]], dtype=complex)\n",
    "sigma_z = csr_matrix([[1, 0], [0, -1]], dtype=complex)\n",
    "\n",
    "# Constants\n",
    "J_total = 1\n",
    "Delta = 1.3\n",
    "gamma = 1.2\n",
    "gamma_e = gamma * (1 - k)\n",
    "gamma_d = gamma\n",
    "\n",
    "def build_hamiltonian(n):\n",
    "    \"\"\"Construct the Hamiltonian for the infinite-ranged Ising model.\"\"\"\n",
    "    H = csr_matrix((2**n, 2**n), dtype=complex)\n",
    "\n",
    "    J_0 = J_total / (n-1)\n",
    "    # Infinite ranged XX term\n",
    "    for i in range(n-1):\n",
    "        for j in range(i+1, n):\n",
    "            X_ops = [I2] * n\n",
    "            X_ops[i] = sigma_x\n",
    "            X_ops[j] = sigma_x\n",
    "            X_term = X_ops[0]\n",
    "            for op in X_ops[1:]:\n",
    "                X_term = kron(X_term, op)\n",
    "\n",
    "            H += J_0 * X_term\n",
    "\n",
    "    # Z field term\n",
    "    for i in range(n):\n",
    "        Z_ops = [I2] * n\n",
    "        Z_ops[i] = sigma_z\n",
    "        Z_term = Z_ops[0]\n",
    "        for op in Z_ops[1:]:\n",
    "            Z_term = kron(Z_term, op)\n",
    "\n",
    "        H -= Delta * Z_term\n",
    "\n",
    "    return H\n",
    "\n",
    "def build_liouvillian(n):\n",
    "    \"\"\"Construct the Liouvillian superoperator.\"\"\"\n",
    "    H = build_hamiltonian(n)\n",
    "    d = H.shape[0]\n",
    "    I = identity(d, format=\"csr\")\n",
    "    \n",
    "    # Hamiltonian contribution\n",
    "    H_comm = -1j * (kron(H, I) - kron(I, H.conj().T))\n",
    "\n",
    "    # Lindblad contributions\n",
    "    lindblad_diss_term = csr_matrix((H_comm.shape[0], H_comm.shape[0]), dtype=complex)\n",
    "\n",
    "    for i in range(n):\n",
    "        # Emission (sigma_minus) operator\n",
    "        L_1_i = [I2] * n\n",
    "        L_1_i[i] = (sigma_x - 1j * sigma_y) / 2\n",
    "        L_1_i_op = L_1_i[0]\n",
    "        for op in L_1_i[1:]:\n",
    "            L_1_i_op = kron(L_1_i_op, op)\n",
    "\n",
    "        # Dephasing (I + sigma_z) operator\n",
    "        L_2_i = [I2] * n\n",
    "        L_2_i[i] = (I2 + sigma_z) / 2\n",
    "        L_2_i_op = L_2_i[0]\n",
    "        for op in L_2_i[1:]:\n",
    "            L_2_i_op = kron(L_2_i_op, op)\n",
    "\n",
    "        # Jump operators\n",
    "        L_1 = np.sqrt(gamma_e) * sigma_minus_op\n",
    "        L_2 = np.sqrt(gamma_d) * sigma_z_op\n",
    "\n",
    "        lindblad_diss_term += kron(L_1, L_1.conj()) - 0.5 * (kron(I, L_1.getH() @ L_1) + kron((L_1.getH() @ L_1).T, I))\n",
    "        lindblad_diss_term += kron(L_2, L_2.conj()) - 0.5 * (kron(I, L_2.getH() @ L_2) + kron((L_2.getH() @ L_2).T, I))\n",
    "\n",
    "    return H_comm + lindblad_diss_term\n",
    "\n",
    "def cost_function(rho, L_vec):\n",
    "    \"\"\"Compute the cost function Tr[(L(rho))^2].\"\"\"\n",
    "    rho_vec = rho.flatten(order=\"F\")  # Vectorize rho\n",
    "    L_rho_vec = L_vec @ rho_vec  # Apply Liouvillian\n",
    "    return np.linalg.norm(L_rho_vec)**2  # Compute squared norm\n",
    "\n",
    "def lindblad_time_evolution_with_cost(n, rho_0, t_max, dt):\n",
    "    \"\"\"Simulate Lindblad equation and compute cost function at each step.\"\"\"\n",
    "    d = 2**n\n",
    "    L_vec = build_liouvillian(n)\n",
    "    rho_vec = rho_0.flatten(order=\"F\")  # Vectorize initial state\n",
    "\n",
    "    times = np.arange(0, t_max, dt)\n",
    "    results = []\n",
    "    costs = []\n",
    "\n",
    "    for t in times:\n",
    "        # Compute cost function\n",
    "        rho = rho_vec.reshape((d, d), order=\"F\")  # Reshape back to density matrix\n",
    "        cost = cost_function(rho, L_vec)\n",
    "        costs.append(cost)\n",
    "\n",
    "        # Time evolution using matrix exponential\n",
    "        exp_Lt = expm(L_vec * dt)\n",
    "        rho_vec = exp_Lt @ rho_vec  # Update density matrix\n",
    "        rho_vec = rho_vec / np.trace(rho_vec.reshape((d, d), order=\"F\"))  # Normalize\n",
    "\n",
    "        results.append(rho_vec.reshape((d, d), order=\"F\"))\n",
    "\n",
    "    return times, results, costs"
   ]
  },
  {
   "cell_type": "code",
   "execution_count": 36,
   "metadata": {},
   "outputs": [],
   "source": [
    "# Simulation parameters\n",
    "n = 4  # Number of qubits\n",
    "t_max = 10\n",
    "dt = 0.05\n",
    "\n",
    "# Helper function to construct the tensor product of single-qubit states\n",
    "def build_initial_state(n):\n",
    "    \"\"\"Construct the initial state |0><0| for n qubits.\"\"\"\n",
    "    # Single-qubit |0><0| state\n",
    "    rho_single = csr_matrix([[1, 0], [0, 0]], dtype=complex)\n",
    "\n",
    "    # Tensor product to extend to n qubits\n",
    "    rho_0 = rho_single\n",
    "    for _ in range(n - 1):\n",
    "        rho_0 = kron(rho_0, rho_single)\n",
    "    # Normalize\n",
    "    rho_0 = rho_0 / np.trace(rho_0.toarray())\n",
    "    return rho_0.toarray()  # Convert to dense array if needed\n",
    "\n",
    "rho_0 = build_initial_state(n) # Initial state\n",
    "# Run simulation with cost function\n",
    "times, results, costs = lindblad_time_evolution_with_cost(n, rho_0, t_max, dt)\n",
    "\n",
    "#populations = [np.real(rho[0, 0]) for rho in results]"
   ]
  },
  {
   "cell_type": "code",
   "execution_count": 37,
   "metadata": {},
   "outputs": [
    {
     "data": {
      "image/png": "[encoded data removed]",
      "text/plain": [
       "<Figure size 800x600 with 1 Axes>"
      ]
     },
     "metadata": {},
     "output_type": "display_data"
    }
   ],
   "source": [
    "plt.figure(figsize=(8, 6))\n",
    "plt.plot(times, costs, label=r\"Cost Function $\\text{Tr}[(\\mathcal{L}\\rho)^2]$\", color=\"rebeccapurple\", lw=4)\n",
    "plt.legend()\n",
    "plt.xlabel(\"Time\", labelpad=10)\n",
    "plt.ylabel(\"Cost function\", labelpad=20)\n",
    "#plt.yscale(\"log\")  # Optional: Log scale for better visualization\n",
    "plt.title(\"Cost Function Over Time\")\n",
    "plt.axhline(0, color=\"green\", linestyle=\"--\")\n",
    "ax = plt.gca()\n",
    "ax.spines['top'].set_linewidth(2)\n",
    "ax.spines['right'].set_linewidth(2)\n",
    "ax.spines['bottom'].set_linewidth(2)\n",
    "ax.spines['left'].set_linewidth(2)\n",
    "ax.tick_params(axis='both', which='major', length=10)\n",
    "plt.tight_layout()\n",
    "#plt.savefig(\"XXZ_n_\"+str(n)+ \"_Delta_\"+ str(Delta)+ \"_g_1_\"+ str(gamma_1)+ \"_g_2_\"+ str(gamma_2)+\".png\", dpi=600, bbox_inches=\"tight\")\n",
    "plt.show()"
   ]
  },
  {
   "cell_type": "code",
   "execution_count": 28,
   "metadata": {},
   "outputs": [],
   "source": [
    "rho_steady_state = results[-1]\n",
    "# Convert the dense array to CSR sparse matrix\n",
    "rho_steady_state_sparse = csr_matrix(rho_steady_state)\n",
    "# Save the steady state density matrix in sparse format\n",
    "save_npz(\"Ising_infinite_ranged_n_\"+str(n)+ \"_Delta_\"+ str(Delta)+ \"_gamma_\"+ str(gamma)+\".npz\", rho_steady_state_sparse)"
   ]
  },
  {
   "cell_type": "code",
   "execution_count": 29,
   "metadata": {},
   "outputs": [],
   "source": [
    "# # Load the two density matrices.\n",
    "rho_1 = load_npz(\"Ising_infinite_ranged_n_4_Delta_0.5_gamma_0.15.npz\").toarray()\n",
    "rho_2 = load_npz(\"Ising_infinite_ranged_n_4_Delta_1.3_gamma_1.2.npz\").toarray()"
   ]
  },
  {
   "cell_type": "code",
   "execution_count": 30,
   "metadata": {},
   "outputs": [],
   "source": [
    "def FM_order(rho):\n",
    "     spin_matrix = csr_matrix((rho.shape[0], rho.shape[0]), dtype=complex)\n",
    "     for i in range(n-1):\n",
    "          for j in range(i+1,n):\n",
    "               sigma_x_i = [I2] * n\n",
    "               sigma_x_i[i] = sigma_x\n",
    "               sigma_x_i[j] = sigma_x\n",
    "               sigma_x_i_op = sigma_x_i[0]\n",
    "               for op in sigma_x_i[1:]:\n",
    "                    sigma_x_i_op = kron(sigma_x_i_op, op)\n",
    "\n",
    "               spin_matrix += sigma_x_i_op\n",
    "\n",
    "     return np.trace(spin_matrix @ rho)/n**2"
   ]
  },
  {
   "cell_type": "code",
   "execution_count": 31,
   "metadata": {},
   "outputs": [
    {
     "name": "stdout",
     "output_type": "stream",
     "text": [
      "FM order parameter for Delta = 0.5, gamma = 0.15:  (0.06640314107925148+1.3877787807814457e-17j)\n",
      "FM order parameter for Delta = 1.3, gamma = 1.2:  (0.05439026778454022+3.469446951953614e-18j)\n"
     ]
    }
   ],
   "source": [
    "FM_order_1 = FM_order(rho_1)\n",
    "FM_order_2 = FM_order(rho_2)\n",
    "\n",
    "print(\"FM order parameter for Delta = 0.5, gamma = 0.15: \", FM_order_1)\n",
    "print(\"FM order parameter for Delta = 1.3, gamma = 1.2: \", FM_order_2)"
   ]
  }
 ],
 "metadata": {
  "kernelspec": {
   "display_name": "latest_python",
   "language": "python",
   "name": "python3"
  },
  "language_info": {
   "codemirror_mode": {
    "name": "ipython",
    "version": 3
   },
   "file_extension": ".py",
   "mimetype": "text/x-python",
   "name": "python",
   "nbconvert_exporter": "python",
   "pygments_lexer": "ipython3",
   "version": "3.13.1"
  }
 },
 "nbformat": 4,
 "nbformat_minor": 2
}
